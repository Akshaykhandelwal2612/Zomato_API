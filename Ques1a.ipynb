{
 "cells": [
  {
   "cell_type": "code",
   "execution_count": 3,
   "metadata": {},
   "outputs": [],
   "source": [
    "#importing files\n",
    "import pandas as pd\n",
    "import matplotlib .pyplot as plt \n",
    "import numpy as np\n",
    "import csv \n",
    "\n",
    "#separate out the data of indian region from data frame and  separate out NCR and NON NCR things \n",
    "d=pd.read_csv(\"zomato.csv\",encoding='latin-1')\n",
    "b=d[d[\"Country Code\"]==1]\n",
    "ncr=b[(b[\"City\"]==\"Gurgaon\") | (b[\"City\"]==\"Ghaziabad\") | (b[\"City\"]==\"Faridabad\") | (b[\"City\"]==\"New Delhi\") | (b[\"City\"]==\"Noida\")]\n",
    "non=b[(b[\"City\"]!=\"Gurgaon\") & (b[\"City\"]!=\"Ghaziabad\") & (b[\"City\"]!=\"Faridabad\") & (b[\"City\"]!=\"New Delhi\") & (b[\"City\"]!=\"Noida\")]\n",
    "\n"
   ]
  },
  {
   "cell_type": "code",
   "execution_count": 4,
   "metadata": {},
   "outputs": [
    {
     "name": "stdout",
     "output_type": "stream",
     "text": [
      "\n"
     ]
    },
    {
     "data": {
      "image/png": "[encoded data removed]",
      "text/plain": [
       "<Figure size 432x288 with 1 Axes>"
      ]
     },
     "metadata": {
      "needs_background": "light"
     },
     "output_type": "display_data"
    }
   ],
   "source": [
    "#now we find out the count from the dataframe \n",
    "li=list()\n",
    "li2=list()\n",
    "x=ncr.describe()\n",
    "a=int(x[\"Country Code\"][\"count\"])\n",
    "y=non.describe()\n",
    "b=int(y[\"Country Code\"][\"count\"])\n",
    "li.append(a)\n",
    "li.append(b)\n",
    "li2.append(\"NCR\")\n",
    "li2.append(\"Rest of India\")\n",
    "plt.bar(li2,li)\n",
    "print()"
   ]
  },
  {
   "cell_type": "code",
   "execution_count": null,
   "metadata": {},
   "outputs": [],
   "source": []
  },
  {
   "cell_type": "code",
   "execution_count": null,
   "metadata": {},
   "outputs": [],
   "source": []
  }
 ],
 "metadata": {
  "kernelspec": {
   "display_name": "Python 3",
   "language": "python",
   "name": "python3"
  },
  "language_info": {
   "codemirror_mode": {
    "name": "ipython",
    "version": 3
   },
   "file_extension": ".py",
   "mimetype": "text/x-python",
   "name": "python",
   "nbconvert_exporter": "python",
   "pygments_lexer": "ipython3",
   "version": "3.8.5"
  }
 },
 "nbformat": 4,
 "nbformat_minor": 4
}
