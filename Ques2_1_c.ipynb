{
 "cells": [
  {
   "cell_type": "code",
   "execution_count": 1,
   "metadata": {},
   "outputs": [
    {
     "name": "stdout",
     "output_type": "stream",
     "text": [
      "\n"
     ]
    },
    {
     "data": {
      "image/png": "[encoded data removed]",
      "text/plain": [
       "<Figure size 432x288 with 1 Axes>"
      ]
     },
     "metadata": {
      "needs_background": "light"
     },
     "output_type": "display_data"
    }
   ],
   "source": [
    "import pandas as pd\n",
    "import matplotlib .pyplot as plt \n",
    "import numpy as np\n",
    "import csv \n",
    "\n",
    "d=pd.read_csv(\"zomato.csv\",encoding='latin-1')\n",
    "b=d[d[\"Country Code\"]==1] \n",
    "d2=dict()\n",
    "d3=dict()\n",
    "d4=dict()\n",
    "for ind in b.index:\n",
    "    x=b[\"Aggregate rating\"][ind]\n",
    "    d2[x]=d2.get(x,0)+b[\"Average Cost for two\"][ind]\n",
    "    d3[x]=d3.get(x,0)+1\n",
    "for i in d2:\n",
    "    d4[i]=d4.get(i,0)+round(d2[i]/d3[i],1)\n",
    "x=list()\n",
    "y=list()\n",
    "for i in d4:\n",
    "    x.append(i)\n",
    "    y.append(d4[i])\n",
    "plt.scatter(x,y)\n",
    "print()\n",
    "\n",
    "#on analysing the data we realise that the restaurants that have a price range of around 1000-1400 have a great number of rating and are rated high on the other hand restaurants having a range of 400-800 are rated at around 2-3.7stars "
   ]
  }
 ],
 "metadata": {
  "kernelspec": {
   "display_name": "Python 3",
   "language": "python",
   "name": "python3"
  },
  "language_info": {
   "codemirror_mode": {
    "name": "ipython",
    "version": 3
   },
   "file_extension": ".py",
   "mimetype": "text/x-python",
   "name": "python",
   "nbconvert_exporter": "python",
   "pygments_lexer": "ipython3",
   "version": "3.8.5"
  }
 },
 "nbformat": 4,
 "nbformat_minor": 4
}
