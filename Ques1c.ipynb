{
 "cells": [
  {
   "cell_type": "code",
   "execution_count": 1,
   "metadata": {},
   "outputs": [],
   "source": [
    "#importing files\n",
    "import pandas as pd\n",
    "import matplotlib .pyplot as plt \n",
    "import numpy as np\n",
    "import csv \n",
    "\n",
    "#separate out the data of indian region from data frame and  separate out NCR and NON NCR things\n",
    "d=pd.read_csv(\"zomato.csv\",encoding='latin-1')\n",
    "b=d[d[\"Country Code\"]==1]\n",
    "ncr=b[(b[\"City\"]==\"Gurgaon\") | (b[\"City\"]==\"Ghaziabad\") | (b[\"City\"]==\"Faridabad\") | (b[\"City\"]==\"New Delhi\") | (b[\"City\"]==\"Noida\")]\n",
    "non=b[(b[\"City\"]!=\"Gurgaon\") & (b[\"City\"]!=\"Ghaziabad\") & (b[\"City\"]!=\"Faridabad\") & (b[\"City\"]!=\"New Delhi\") & (b[\"City\"]!=\"Noida\")]\n",
    "\n"
   ]
  },
  {
   "cell_type": "code",
   "execution_count": 2,
   "metadata": {},
   "outputs": [
    {
     "name": "stdout",
     "output_type": "stream",
     "text": [
      "North Indian\n",
      "Chinese\n",
      "Fast Food\n",
      "Mughlai\n",
      "Bakery\n",
      "South Indian\n",
      "Continental\n",
      "Desserts\n",
      "Street Food\n",
      "Italian\n"
     ]
    }
   ],
   "source": [
    "#for Delhi top10\n",
    "cus=ncr.Cuisines\n",
    "ncus=dict()\n",
    "for i in cus:\n",
    "    for j in i.split(', '):\n",
    "        ncus[j]=ncus.get(j,0)+1\n",
    "ncus\n",
    "\n",
    "a= sorted(ncus.items(), key=lambda item: item[1],reverse=True)\n",
    "j=0\n",
    "\n",
    "a=a[:10]\n",
    "for i in a:\n",
    "    print(i[0])\n",
    "\n",
    "    \n",
    "        "
   ]
  },
  {
   "cell_type": "code",
   "execution_count": 3,
   "metadata": {},
   "outputs": [
    {
     "name": "stdout",
     "output_type": "stream",
     "text": [
      "North Indian\n",
      "Chinese\n",
      "Continental\n",
      "Italian\n",
      "Cafe\n",
      "Fast Food\n",
      "South Indian\n",
      "Mughlai\n",
      "Desserts\n",
      "Mexican\n"
     ]
    }
   ],
   "source": [
    "#for India top10\n",
    "cus=non.Cuisines\n",
    "ncus=dict()\n",
    "for i in cus:\n",
    "    for j in i.split(', '):\n",
    "        ncus[j]=ncus.get(j,0)+1\n",
    "ncus\n",
    "\n",
    "a= sorted(ncus.items(), key=lambda item: item[1],reverse=True)\n",
    "j=0\n",
    "\n",
    "a=a[:10]\n",
    "for i in a:\n",
    "    print(i[0])\n",
    "    "
   ]
  }
 ],
 "metadata": {
  "kernelspec": {
   "display_name": "Python 3",
   "language": "python",
   "name": "python3"
  },
  "language_info": {
   "codemirror_mode": {
    "name": "ipython",
    "version": 3
   },
   "file_extension": ".py",
   "mimetype": "text/x-python",
   "name": "python",
   "nbconvert_exporter": "python",
   "pygments_lexer": "ipython3",
   "version": "3.8.5"
  }
 },
 "nbformat": 4,
 "nbformat_minor": 4
}
