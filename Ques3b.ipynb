{
 "cells": [
  {
   "cell_type": "code",
   "execution_count": 1,
   "metadata": {},
   "outputs": [
    {
     "name": "stdout",
     "output_type": "stream",
     "text": [
      "\n"
     ]
    },
    {
     "data": {
      "image/png": "[encoded data removed]",
      "text/plain": [
       "<Figure size 432x288 with 1 Axes>"
      ]
     },
     "metadata": {
      "needs_background": "light"
     },
     "output_type": "display_data"
    }
   ],
   "source": [
    "# import libraries\n",
    "import pandas as pd\n",
    "import matplotlib .pyplot as plt \n",
    "import numpy as np\n",
    "import csv \n",
    "\n",
    "#now we read the dataset and then separate out the INDIAN restaurant details and drop non rated restaurants and then we will plot the graph \n",
    "d=pd.read_csv(\"zomato.csv\",encoding='latin-1')\n",
    "b=d[d[\"Country Code\"]==1]\n",
    "b=b[b[\"Rating text\"]!=\"Not rated\"]\n",
    "b=b[\"Aggregate rating\"]\n",
    "b=b.dropna()\n",
    "li=list()\n",
    "for i in b:\n",
    "    li.append(i)\n",
    "li=np.array(li)\n",
    "plt.hist(li,bins=10)\n",
    "print()"
   ]
  }
 ],
 "metadata": {
  "kernelspec": {
   "display_name": "Python 3",
   "language": "python",
   "name": "python3"
  },
  "language_info": {
   "codemirror_mode": {
    "name": "ipython",
    "version": 3
   },
   "file_extension": ".py",
   "mimetype": "text/x-python",
   "name": "python",
   "nbconvert_exporter": "python",
   "pygments_lexer": "ipython3",
   "version": "3.8.5"
  }
 },
 "nbformat": 4,
 "nbformat_minor": 4
}
