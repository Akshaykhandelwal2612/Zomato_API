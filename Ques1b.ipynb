{
 "cells": [
  {
   "cell_type": "code",
   "execution_count": 1,
   "metadata": {},
   "outputs": [],
   "source": [
    "#importing files\n",
    "import pandas as pd\n",
    "import matplotlib .pyplot as plt \n",
    "import numpy as np\n",
    "import csv \n",
    "\n",
    "\n",
    "\n",
    "#separate out the data of indian region from data frame and  separate out NCR and NON NCR things\n",
    "d=pd.read_csv(\"zomato.csv\",encoding='latin-1')\n",
    "b=d[d[\"Country Code\"]==1]\n",
    "ncr=b[(b[\"City\"]==\"Gurgaon\") | (b[\"City\"]==\"Ghaziabad\") | (b[\"City\"]==\"Faridabad\") | (b[\"City\"]==\"New Delhi\") | (b[\"City\"]==\"Noida\")]\n",
    "non=b[(b[\"City\"]!=\"Gurgaon\") & (b[\"City\"]!=\"Ghaziabad\") & (b[\"City\"]!=\"Faridabad\") & (b[\"City\"]!=\"New Delhi\") & (b[\"City\"]!=\"Noida\")]\n",
    "\n"
   ]
  },
  {
   "cell_type": "code",
   "execution_count": 2,
   "metadata": {},
   "outputs": [
    {
     "name": "stdout",
     "output_type": "stream",
     "text": [
      "Malwani\n",
      "German\n",
      "BBQ\n",
      "Cajun\n"
     ]
    }
   ],
   "source": [
    "#iterate over the dataframe and append all the cusines of each region on two separate sets and then print their difference \n",
    "cus=ncr.Cuisines\n",
    "ncus=set()\n",
    "for i in cus:\n",
    "    for j in i.split(', '):\n",
    "        ncus.add(j)\n",
    "cus2=non.Cuisines\n",
    "\n",
    "noncus=set()\n",
    "for i in cus2:\n",
    "    for j in i.split(', '):\n",
    "        noncus.add(j)\n",
    "for i in (noncus-ncus):\n",
    "    print(i)"
   ]
  },
  {
   "cell_type": "code",
   "execution_count": 3,
   "metadata": {},
   "outputs": [
    {
     "name": "stdout",
     "output_type": "stream",
     "text": [
      "BBQ\n",
      "Malwani\n"
     ]
    }
   ],
   "source": [
    "#now from the API we check out if any of them are present in the cusines of those place and we get that only in DELHI two kinds of cuisines are present that were earlier not there in the dataset thus the cusines are present but we are not getting them due to incomplete data set \n",
    "import requests as re\n",
    "import json\n",
    "params={\"city_id\":1}\n",
    "header={\"User-agent\":\"curl/7.43.0\",\"Accept\":\"application/json\",\"user-key\":\"95068f548d4c179bc00184ab5a7ee4b4\"}\n",
    "a=re.get(\"https://developers.zomato.com/api/v2.1/cuisines\",headers=header,params=params)\n",
    "b=a.text\n",
    "b=json.loads(b)\n",
    "for i in b[\"cuisines\"]:\n",
    "    if i[\"cuisine\"][\"cuisine_name\"] in (noncus-ncus):\n",
    "        print(i[\"cuisine\"][\"cuisine_name\"])"
   ]
  }
 ],
 "metadata": {
  "kernelspec": {
   "display_name": "Python 3",
   "language": "python",
   "name": "python3"
  },
  "language_info": {
   "codemirror_mode": {
    "name": "ipython",
    "version": 3
   },
   "file_extension": ".py",
   "mimetype": "text/x-python",
   "name": "python",
   "nbconvert_exporter": "python",
   "pygments_lexer": "ipython3",
   "version": "3.8.5"
  }
 },
 "nbformat": 4,
 "nbformat_minor": 4
}
