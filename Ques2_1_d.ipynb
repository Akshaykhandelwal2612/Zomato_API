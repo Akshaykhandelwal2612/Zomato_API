{
 "cells": [
  {
   "cell_type": "code",
   "execution_count": 9,
   "metadata": {},
   "outputs": [
    {
     "name": "stdout",
     "output_type": "stream",
     "text": [
      "Most rated cuisine are\n",
      "('Persian', 4.6)\n",
      "('German', 4.4)\n",
      "('Modern Indian', 4.3)\n",
      "('Charcoal Grill', 4.2)\n",
      "('Parsi', 4.1)\n",
      "Least rated cuisine are\n",
      "('Cuisine Varies', 0.0)\n",
      "('Armenian', 1.3)\n",
      "('Afghani', 1.4)\n",
      "('Awadhi', 1.6)\n",
      "('Moroccan', 1.6)\n"
     ]
    }
   ],
   "source": [
    "\n",
    "import pandas as pd\n",
    "import matplotlib .pyplot as plt \n",
    "import numpy as np\n",
    "import csv \n",
    "\n",
    "d=pd.read_csv(\"zomato.csv\",encoding='latin-1')\n",
    "b=d[d[\"Country Code\"]==1] \n",
    "d2=dict()\n",
    "d3=dict()\n",
    "d4=dict()\n",
    "for ind in b.index:\n",
    "    for x in b[\"Cuisines\"][ind].split(\", \"):\n",
    "        d2[x]=d2.get(x,0)+b[\"Aggregate rating\"][ind]\n",
    "        d3[x]=d3.get(x,0)+1\n",
    "for i in d2:\n",
    "    d4[i]=d4.get(i,0)+round(d2[i]/d3[i],1)\n",
    "x=list()\n",
    "y=list()\n",
    "for i in d4:\n",
    "    x.append(i)\n",
    "    y.append(d4[i])\n",
    "di2= sorted(d4.items(), key=lambda item: item[1],reverse=True)\n",
    "di3= sorted(d4.items(), key=lambda item: item[1])\n",
    "di2=di2[:5]\n",
    "di3=di3[:5]\n",
    "print(\"Most rated cuisine are\")\n",
    "for i in di2:\n",
    "    print(i)\n",
    "print(\"Least rated cuisine are\")\n",
    "for i in di3:\n",
    "    print(i)\n",
    " \n",
    "#thus we get the most and the least rated food in the region \n",
    "\n",
    "    "
   ]
  }
 ],
 "metadata": {
  "kernelspec": {
   "display_name": "Python 3",
   "language": "python",
   "name": "python3"
  },
  "language_info": {
   "codemirror_mode": {
    "name": "ipython",
    "version": 3
   },
   "file_extension": ".py",
   "mimetype": "text/x-python",
   "name": "python",
   "nbconvert_exporter": "python",
   "pygments_lexer": "ipython3",
   "version": "3.8.5"
  }
 },
 "nbformat": 4,
 "nbformat_minor": 4
}
