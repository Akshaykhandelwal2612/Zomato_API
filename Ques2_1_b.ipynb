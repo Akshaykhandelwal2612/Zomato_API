{
 "cells": [
  {
   "cell_type": "code",
   "execution_count": 1,
   "metadata": {},
   "outputs": [
    {
     "name": "stdout",
     "output_type": "stream",
     "text": [
      "\n"
     ]
    },
    {
     "data": {
      "image/png": "[encoded data removed]",
      "text/plain": [
       "<Figure size 432x288 with 1 Axes>"
      ]
     },
     "metadata": {
      "needs_background": "light"
     },
     "output_type": "display_data"
    }
   ],
   "source": [
    "import pandas as pd\n",
    "import matplotlib .pyplot as plt \n",
    "import numpy as np\n",
    "import csv \n",
    "\n",
    "d=pd.read_csv(\"zomato.csv\",encoding='latin-1')\n",
    "b=d[d[\"Country Code\"]==1] \n",
    "d2=dict()\n",
    "d3=dict()\n",
    "d4=dict()\n",
    "for ind in b.index:\n",
    "    x=len(b[\"Cuisines\"][ind].split(\", \"))\n",
    "    d2[x]=d2.get(x,0)+b[\"Aggregate rating\"][ind]\n",
    "    d3[x]=d3.get(x,0)+1\n",
    "for i in d2:\n",
    "    d4[i]=d4.get(i,0)+round(d2[i]/d3[i],1)\n",
    "x=list()\n",
    "y=list()\n",
    "for i in d4:\n",
    "    x.append(i)\n",
    "    y.append(d4[i])\n",
    "plt.bar(x,y)\n",
    "print()\n",
    "#on analysing the data we observe that the restaurant that have 3  or less number of cusines are rated less than 3 while others are having high rating that have more than 3 cuisines have been rated high "
   ]
  }
 ],
 "metadata": {
  "kernelspec": {
   "display_name": "Python 3",
   "language": "python",
   "name": "python3"
  },
  "language_info": {
   "codemirror_mode": {
    "name": "ipython",
    "version": 3
   },
   "file_extension": ".py",
   "mimetype": "text/x-python",
   "name": "python",
   "nbconvert_exporter": "python",
   "pygments_lexer": "ipython3",
   "version": "3.8.5"
  }
 },
 "nbformat": 4,
 "nbformat_minor": 4
}
