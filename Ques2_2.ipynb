{
 "cells": [
  {
   "cell_type": "code",
   "execution_count": 1,
   "metadata": {},
   "outputs": [
    {
     "name": "stdout",
     "output_type": "stream",
     "text": [
      "\n",
      "top 10 are\n",
      "Secunderabad\n",
      "Bangalore\n",
      "Hyderabad\n",
      "Chennai\n",
      "Lucknow\n",
      "Kolkata\n",
      "Mohali\n",
      "Jaipur\n",
      "Pune\n",
      "Guwahati\n"
     ]
    }
   ],
   "source": [
    "#import libraries \n",
    "import pandas as pd\n",
    "import matplotlib .pyplot as plt \n",
    "import numpy as np\n",
    "import csv \n",
    "#now we separate out the indian countries and find the weighted value and then sort the dictionary and find the top 10 countries  with maximum values \n",
    "d=pd.read_csv(\"zomato.csv\",encoding='latin-1')\n",
    "b=d[d[\"Country Code\"]==1] \n",
    "d1=dict()\n",
    "d2=dict()\n",
    "d3=dict()\n",
    "for ind in b.index:\n",
    "    d1[b['City'][ind]]=d1.get(b['City'][ind],0)+1\n",
    "    d2[b['City'][ind]]=d2.get(b['City'][ind],0)+(b[\"Aggregate rating\"][ind]*b[\"Votes\"][ind])\n",
    "    d3[b[\"City\"][ind]]=d3.get(b[\"City\"][ind],0)+b[\"Votes\"][ind]\n",
    "d4=dict()\n",
    "for i in d3:\n",
    "    x=round(d2[i]/d3[i],2)\n",
    "    d4[i]=d4.get(i,0)+x\n",
    "\n",
    "d4= sorted(d4.items(), key=lambda item: item[1],reverse=True)\n",
    "d4=d4[:10]\n",
    "print()\n",
    "print(\"top 10 are\")\n",
    "for i in d4:\n",
    "    print(i[0])"
   ]
  }
 ],
 "metadata": {
  "kernelspec": {
   "display_name": "Python 3",
   "language": "python",
   "name": "python3"
  },
  "language_info": {
   "codemirror_mode": {
    "name": "ipython",
    "version": 3
   },
   "file_extension": ".py",
   "mimetype": "text/x-python",
   "name": "python",
   "nbconvert_exporter": "python",
   "pygments_lexer": "ipython3",
   "version": "3.8.5"
  }
 },
 "nbformat": 4,
 "nbformat_minor": 4
}
