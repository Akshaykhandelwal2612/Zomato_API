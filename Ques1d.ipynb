{
 "cells": [
  {
   "cell_type": "code",
   "execution_count": 2,
   "metadata": {},
   "outputs": [],
   "source": [
    "#importing files\n",
    "import pandas as pd\n",
    "import matplotlib .pyplot as plt \n",
    "import numpy as np\n",
    "import csv \n",
    "\n",
    "#separate out the data of indian region from data frame and  separate out NCR and NON NCR things\n",
    "d=pd.read_csv(\"zomato.csv\",encoding='latin-1')\n",
    "b=d[d[\"Country Code\"]==1]\n",
    "ncr=b[(b[\"City\"]==\"Gurgaon\") | (b[\"City\"]==\"Ghaziabad\") | (b[\"City\"]==\"Faridabad\") | (b[\"City\"]==\"New Delhi\") | (b[\"City\"]==\"Noida\")]\n",
    "non=b[(b[\"City\"]!=\"Gurgaon\") & (b[\"City\"]!=\"Ghaziabad\") & (b[\"City\"]!=\"Faridabad\") & (b[\"City\"]!=\"New Delhi\") & (b[\"City\"]!=\"Noida\")]\n",
    "\n"
   ]
  },
  {
   "cell_type": "code",
   "execution_count": 6,
   "metadata": {},
   "outputs": [
    {
     "name": "stdout",
     "output_type": "stream",
     "text": [
      "\n"
     ]
    },
    {
     "data": {
      "image/png": "[encoded data removed]",
      "text/plain": [
       "<Figure size 432x288 with 1 Axes>"
      ]
     },
     "metadata": {
      "needs_background": "light"
     },
     "output_type": "display_data"
    }
   ],
   "source": [
    "#for Delhi top10\n",
    "cus=ncr.Cuisines\n",
    "ncus=dict()\n",
    "for i in cus:\n",
    "    for j in i.split(', '):\n",
    "        ncus[j]=ncus.get(j,0)+1\n",
    "ncus\n",
    "\n",
    "a= sorted(ncus.items(), key=lambda item: item[1],reverse=True)\n",
    "j=0\n",
    "x=list()\n",
    "y=list()\n",
    "a=a[:5]\n",
    "for i in a:\n",
    "    x.append(i[0])\n",
    "    y.append(i[1])\n",
    "\n",
    "#for India top10\n",
    "cus=non.Cuisines\n",
    "ncus=dict()\n",
    "for i in cus:\n",
    "    for j in i.split(', '):\n",
    "        ncus[j]=ncus.get(j,0)+1\n",
    "ncus\n",
    "\n",
    "a= sorted(ncus.items(), key=lambda item: item[1],reverse=True)\n",
    "j=0\n",
    "x1=list()\n",
    "y1=list()\n",
    "a=a[:5]\n",
    "for i in a:\n",
    "    x1.append(i[0])\n",
    "    y1.append(i[1])\n",
    "    \n",
    "plt.bar(x,y)\n",
    "plt.bar(x1,y1)\n",
    "plt.xticks(rotation=30)    \n",
    "print()      \n",
    "\n",
    "#well on analysing the the graph we realise that while north indian and chinese are amongst the top 5 in both NCR and non NCR regions on the other hand the NCR region have fast food,bakery and mughlai as the top cusines while in NON NCR regions we have continental italian and cafe food amongst the top \n"
   ]
  },
  {
   "cell_type": "code",
   "execution_count": null,
   "metadata": {},
   "outputs": [],
   "source": []
  }
 ],
 "metadata": {
  "kernelspec": {
   "display_name": "Python 3",
   "language": "python",
   "name": "python3"
  },
  "language_info": {
   "codemirror_mode": {
    "name": "ipython",
    "version": 3
   },
   "file_extension": ".py",
   "mimetype": "text/x-python",
   "name": "python",
   "nbconvert_exporter": "python",
   "pygments_lexer": "ipython3",
   "version": "3.8.5"
  }
 },
 "nbformat": 4,
 "nbformat_minor": 4
}
